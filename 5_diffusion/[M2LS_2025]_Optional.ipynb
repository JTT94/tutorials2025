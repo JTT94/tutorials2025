{
 "cells": [
  {
   "cell_type": "markdown",
   "metadata": {
    "id": "Cdptlndy2eqn"
   },
   "source": [
    "## Setup\n",
    "\n",
    "---\n",
    "\n",
    "Additional Notes and Setup (framework info, python imports etc)\n"
   ]
  },
  {
   "cell_type": "code",
   "execution_count": null,
   "metadata": {
    "colab": {
     "base_uri": "https://localhost:8080/"
    },
    "executionInfo": {
     "elapsed": 8230,
     "status": "ok",
     "timestamp": 1756905168356,
     "user": {
      "displayName": "Gabrijel Boduljak",
      "userId": "02011632684197822840"
     },
     "user_tz": -60
    },
    "id": "nOnGQ_LYQuwk",
    "outputId": "1af83071-30fb-4125-cacd-a6e0f247060c"
   },
   "outputs": [],
   "source": [
    "!pip install torchinfo"
   ]
  },
  {
   "cell_type": "code",
   "execution_count": null,
   "metadata": {
    "executionInfo": {
     "elapsed": 2348,
     "status": "ok",
     "timestamp": 1756905170706,
     "user": {
      "displayName": "Gabrijel Boduljak",
      "userId": "02011632684197822840"
     },
     "user_tz": -60
    },
    "id": "yPuj1uwmQZyT"
   },
   "outputs": [],
   "source": [
    "import torch\n",
    "import torch.nn.functional as F"
   ]
  },
  {
   "cell_type": "code",
   "execution_count": null,
   "metadata": {
    "executionInfo": {
     "elapsed": 1079,
     "status": "ok",
     "timestamp": 1756905171788,
     "user": {
      "displayName": "Gabrijel Boduljak",
      "userId": "02011632684197822840"
     },
     "user_tz": -60
    },
    "id": "pk1cGnMuQZyU"
   },
   "outputs": [],
   "source": [
    "import numpy as np\n",
    "import matplotlib.pyplot as plt\n",
    "from scipy.stats import multivariate_normal\n",
    "import matplotlib"
   ]
  },
  {
   "cell_type": "code",
   "execution_count": null,
   "metadata": {
    "executionInfo": {
     "elapsed": 25,
     "status": "ok",
     "timestamp": 1756905171811,
     "user": {
      "displayName": "Gabrijel Boduljak",
      "userId": "02011632684197822840"
     },
     "user_tz": -60
    },
    "id": "-5D01Ha9QZyU"
   },
   "outputs": [],
   "source": [
    "from torchinfo import summary\n",
    "from typing import Tuple"
   ]
  },
  {
   "cell_type": "markdown",
   "metadata": {
    "id": "uvY-GbhGQZyU"
   },
   "source": [
    "### Dataset\n"
   ]
  },
  {
   "cell_type": "code",
   "execution_count": null,
   "metadata": {
    "executionInfo": {
     "elapsed": 604,
     "status": "ok",
     "timestamp": 1756905172416,
     "user": {
      "displayName": "Gabrijel Boduljak",
      "userId": "02011632684197822840"
     },
     "user_tz": -60
    },
    "id": "MPgsJ8DgQZyU"
   },
   "outputs": [],
   "source": [
    "import numpy as np\n",
    "import matplotlib.pyplot as plt\n",
    "from sklearn.datasets import make_moons\n",
    "import matplotlib\n",
    "\n",
    "# Parameters\n",
    "n_samples = 50000\n",
    "noise = 0.005\n",
    "random_state = 42\n",
    "\n",
    "# Generate data\n",
    "X, y = make_moons(\n",
    "    n_samples=n_samples,\n",
    "    noise=noise,\n",
    "    random_state=random_state\n",
    ")\n",
    "\n",
    "# Center and scale X\n",
    "mu = X.mean(axis=0)\n",
    "std = X.std(axis=0)\n",
    "X = (X - mu) / std\n",
    "\n",
    "\n",
    "def plot_dataset():\n",
    "    fig, ax = plt.subplots()\n",
    "\n",
    "    # Pick two discrete colors from viridis\n",
    "    cmap = matplotlib.colormaps[\"viridis\"].resampled(2)  # 2 discrete colors\n",
    "    colors = [cmap(0), cmap(1)]\n",
    "\n",
    "    # Plot each class with its viridis color\n",
    "    ax.scatter(X[y == 0, 0], X[y == 0, 1], c=[colors[0]], s=12, label=\"0\")\n",
    "    ax.scatter(X[y == 1, 0], X[y == 1, 1], c=[colors[1]], s=12, label=\"1\")\n",
    "\n",
    "    ax.set_title(\"Two Moons\")\n",
    "    ax.set_xlabel(\"x\")\n",
    "    ax.set_ylabel(\"y\")\n",
    "\n",
    "    # Set the plot limits\n",
    "    ax.set_xlim(X[:, 0].min() - 0.5, X[:, 0].max() + 0.5)\n",
    "    ax.set_ylim(X[:, 1].min() - 0.5, X[:, 1].max() + 0.5)\n",
    "\n",
    "    # Add a simple legend\n",
    "    ax.legend(title=\"Label\")"
   ]
  },
  {
   "cell_type": "code",
   "execution_count": null,
   "metadata": {
    "executionInfo": {
     "elapsed": 20,
     "status": "ok",
     "timestamp": 1756905172441,
     "user": {
      "displayName": "Gabrijel Boduljak",
      "userId": "02011632684197822840"
     },
     "user_tz": -60
    },
    "id": "BUHnpyV_QZyV"
   },
   "outputs": [],
   "source": [
    "import torch\n",
    "import matplotlib.pyplot as plt\n",
    "\n",
    "\n",
    "def plot_forward(X, y, alpha, sigma):\n",
    "    \"\"\"\n",
    "    Visualize the VP-SDE forward process.\n",
    "\n",
    "    Args:\n",
    "        X (np.ndarray): Initial data of shape (N, 2)\n",
    "        y (np.ndarray): Labels for coloring the scatter plot\n",
    "        alpha (callable): Function alpha(t)\n",
    "        sigma (callable): Function sigma(t)\n",
    "    \"\"\"\n",
    "    # Convert numpy array to torch tensor\n",
    "    X_tensor = torch.from_numpy(X).float()\n",
    "\n",
    "    # Define the timesteps we want to visualize\n",
    "    timesteps = torch.tensor(\n",
    "        [0.0, 0.01, 0.05, 0.1, 0.15, 0.2, 0.25, 0.3, 0.5, 0.75, 1.0])\n",
    "\n",
    "    # Determine the number of rows and columns for the subplots\n",
    "    num_timesteps = len(timesteps) + 1  # include final Normal(0,1)\n",
    "    num_cols = 4\n",
    "    num_rows = (num_timesteps + num_cols - 1) // num_cols\n",
    "\n",
    "    # Set up the plot\n",
    "    fig, axes = plt.subplots(\n",
    "        num_rows, num_cols, figsize=(5 * num_cols, 5 * num_rows))\n",
    "    fig.suptitle(\"Forward Process\", fontsize=16)\n",
    "    axes = axes.flatten()\n",
    "\n",
    "    # Forward process for each timestep\n",
    "    for i, t in enumerate(timesteps):\n",
    "        alpha_t = alpha(t)\n",
    "        sigma_t = sigma(t)\n",
    "        epsilon = torch.randn_like(X_tensor)\n",
    "        X_t = alpha_t * X_tensor + sigma_t * epsilon\n",
    "\n",
    "        ax = axes[i]\n",
    "        ax.scatter(X_t[:, 0].numpy(), X_t[:, 1].numpy(),\n",
    "                   s=10, c=y, cmap='viridis')\n",
    "        ax.set_title(f\"t = {t.item():.2f}\")\n",
    "        ax.set_xlabel(\"x\")\n",
    "        ax.set_ylabel(\"y\")\n",
    "        ax.set_xlim(-3, 3)\n",
    "        ax.set_ylim(-3, 3)\n",
    "        ax.grid(True)\n",
    "\n",
    "    # Final Normal(0,1) plot\n",
    "    epsilon = torch.randn_like(X_tensor)\n",
    "    final_ax = axes[num_timesteps - 1]\n",
    "    final_ax.scatter(epsilon[:, 0].numpy(), epsilon[:, 1].numpy(), s=10)\n",
    "    final_ax.set_title(\"Normal (0,1)\")\n",
    "    final_ax.set_xlabel(\"x\")\n",
    "    final_ax.set_ylabel(\"y\")\n",
    "    final_ax.set_xlim(-3, 3)\n",
    "    final_ax.set_ylim(-3, 3)\n",
    "    final_ax.grid(True)\n",
    "\n",
    "    # Turn off any unused subplots\n",
    "    for j in range(num_timesteps, len(axes)):\n",
    "        axes[j].axis('off')\n",
    "\n",
    "    plt.tight_layout(rect=[0, 0.03, 1, 0.95])\n",
    "    plt.show()\n",
    "\n",
    "\n",
    "def plot_schedule(alpha_fn, beta_fn, sigma_fn, t=None):\n",
    "    \"\"\"\n",
    "    Plot beta(t), alpha(t), and sigma(t) side by side for t in [0,1].\n",
    "\n",
    "    Args:\n",
    "        alpha_fn: function t -> alpha(t)\n",
    "        beta_fn: function t -> beta(t)\n",
    "        sigma_fn: function t -> sigma(t)\n",
    "        t: optional torch.Tensor of time values, default linspace(0,1,500)\n",
    "    \"\"\"\n",
    "    if t is None:\n",
    "        t = torch.linspace(0, 1, 500)\n",
    "\n",
    "    b = beta_fn(t)\n",
    "    a = alpha_fn(t)\n",
    "    s = sigma_fn(t)\n",
    "\n",
    "    cmap = plt.get_cmap(\"viridis\")\n",
    "    colors = [cmap(0.2), cmap(0.5), cmap(0.8)]\n",
    "\n",
    "    fig, axs = plt.subplots(1, 3, figsize=(15, 4))\n",
    "\n",
    "    axs[0].plot(t, b, color=colors[0])\n",
    "    axs[0].set_title(\"beta(t)\")\n",
    "    axs[0].set_xlabel(\"t\")\n",
    "    axs[0].set_ylabel(\"beta\")\n",
    "\n",
    "    axs[1].plot(t, a, color=colors[1])\n",
    "    axs[1].set_title(\"alpha(t)\")\n",
    "    axs[1].set_xlabel(\"t\")\n",
    "    axs[1].set_ylabel(\"alpha\")\n",
    "\n",
    "    axs[2].plot(t, s, color=colors[2])\n",
    "    axs[2].set_title(\"sigma(t)\")\n",
    "    axs[2].set_xlabel(\"t\")\n",
    "    axs[2].set_ylabel(\"sigma\")\n",
    "\n",
    "    plt.tight_layout()\n",
    "    plt.show()"
   ]
  },
  {
   "cell_type": "code",
   "execution_count": null,
   "metadata": {
    "executionInfo": {
     "elapsed": 6,
     "status": "ok",
     "timestamp": 1756905172448,
     "user": {
      "displayName": "Gabrijel Boduljak",
      "userId": "02011632684197822840"
     },
     "user_tz": -60
    },
    "id": "GRqAb3dZQZyV"
   },
   "outputs": [],
   "source": [
    "import numpy as np\n",
    "import matplotlib.pyplot as plt\n",
    "from matplotlib.animation import FuncAnimation, PillowWriter\n",
    "from IPython.display import Image, display\n",
    "import matplotlib.cm as cm\n",
    "\n",
    "\n",
    "def animate_trajectories(traj, downsample_points=2, downsample_frames=5, gif_path=\"denoising.gif\"):\n",
    "    \"\"\"\n",
    "    Animate a trajectory tensor and optionally save as GIF.\n",
    "\n",
    "    Args:\n",
    "        traj (np.ndarray): Trajectories of shape (num_points, num_timesteps, 2)\n",
    "        downsample_points (int): Factor to downsample points for faster animation\n",
    "        downsample_frames (int): Factor to downsample frames for faster animation\n",
    "        gif_path (str): Path to save GIF\n",
    "        show (bool): Whether to display GIF in notebook\n",
    "    \"\"\"\n",
    "    # Downsample for speed\n",
    "    traj_ds = traj[::downsample_points, ::downsample_frames, :]\n",
    "    num_points, num_timesteps, _ = traj_ds.shape\n",
    "\n",
    "    # Viridis colormap\n",
    "    colors = cm.viridis(np.linspace(0, 1, num_points))\n",
    "\n",
    "    # Set up the plot\n",
    "    fig, ax = plt.subplots(figsize=(6, 6))\n",
    "    scat = ax.scatter(traj_ds[:, 0, 0], traj_ds[:, 0, 1], s=5, c=colors)\n",
    "    ax.set_xlim(np.min(traj_ds[:, :, 0]), np.max(traj_ds[:, :, 0]))\n",
    "    ax.set_ylim(np.min(traj_ds[:, :, 1]), np.max(traj_ds[:, :, 1]))\n",
    "    ax.set_title(f\"Timestep: 0\")\n",
    "\n",
    "    # Animation update function\n",
    "    def update(frame):\n",
    "        scat.set_offsets(traj_ds[:, frame, :])\n",
    "        ax.set_title(f\"Timestep: {frame * downsample_frames}\")\n",
    "        return scat,\n",
    "\n",
    "    # Create animation (does NOT repeat automatically)\n",
    "    anim = FuncAnimation(\n",
    "        fig,\n",
    "        update,\n",
    "        frames=num_timesteps,\n",
    "        interval=20,\n",
    "        blit=True,\n",
    "        repeat=False\n",
    "    )\n",
    "\n",
    "    # Save as GIF\n",
    "    anim.save(gif_path, writer=PillowWriter(fps=30))"
   ]
  },
  {
   "cell_type": "code",
   "execution_count": null,
   "metadata": {
    "executionInfo": {
     "elapsed": 1,
     "status": "ok",
     "timestamp": 1756905172460,
     "user": {
      "displayName": "Gabrijel Boduljak",
      "userId": "02011632684197822840"
     },
     "user_tz": -60
    },
    "id": "n1yh3Lz0VCb8"
   },
   "outputs": [],
   "source": [
    "def beta(t, beta_min=0.1, beta_max=20):\n",
    "    \"\"\"\n",
    "    Linear beta schedule for VP-SDE.\n",
    "\n",
    "    Args:\n",
    "        t: torch.Tensor of shape (...), values in [0,1]\n",
    "        beta_min: minimum beta\n",
    "        beta_max: maximum beta\n",
    "\n",
    "    Returns:\n",
    "        beta(t): torch.Tensor of same shape as t\n",
    "    \"\"\"\n",
    "    return beta_min + t * (beta_max - beta_min)\n",
    "\n",
    "\n",
    "def alpha(t, beta_min=0.1, beta_max=20):\n",
    "    \"\"\"\n",
    "    Compute alpha(t) for VP-SDE with linear beta schedule.\n",
    "\n",
    "    Args:\n",
    "        t: torch.Tensor of shape (...), values in [0,1]\n",
    "\n",
    "    Returns:\n",
    "        alpha: torch.Tensor same shape as t\n",
    "    \"\"\"\n",
    "    integral = beta_min * t + 0.5 * (beta_max - beta_min) * t**2\n",
    "    return torch.exp(-0.5 * integral)\n",
    "\n",
    "\n",
    "def sigma(t, beta_min=0.1, beta_max=20):\n",
    "    \"\"\"\n",
    "    Compute sigma(t) for VP-SDE with linear beta schedule.\n",
    "\n",
    "    Args:\n",
    "        t: torch.Tensor of shape (...), values in [0,1]\n",
    "\n",
    "    Returns:\n",
    "        sigma: torch.Tensor same shape as t\n",
    "    \"\"\"\n",
    "    return torch.sqrt(1 - torch.square(alpha(t, beta_min, beta_max)))"
   ]
  },
  {
   "cell_type": "code",
   "execution_count": null,
   "metadata": {
    "executionInfo": {
     "elapsed": 11,
     "status": "ok",
     "timestamp": 1756905172472,
     "user": {
      "displayName": "Gabrijel Boduljak",
      "userId": "02011632684197822840"
     },
     "user_tz": -60
    },
    "id": "TAsEPht8QZyV"
   },
   "outputs": [],
   "source": [
    "batch_size = 2048\n",
    "num_epochs = 1024\n",
    "lr = 1e-3"
   ]
  },
  {
   "cell_type": "code",
   "execution_count": null,
   "metadata": {
    "executionInfo": {
     "elapsed": 1,
     "status": "ok",
     "timestamp": 1756905172474,
     "user": {
      "displayName": "Gabrijel Boduljak",
      "userId": "02011632684197822840"
     },
     "user_tz": -60
    },
    "id": "V5kYGqyoQ6h8"
   },
   "outputs": [],
   "source": [
    "device = torch.device(f\"cuda:{0}\")"
   ]
  },
  {
   "cell_type": "code",
   "execution_count": null,
   "metadata": {
    "executionInfo": {
     "elapsed": 6,
     "status": "ok",
     "timestamp": 1756905172480,
     "user": {
      "displayName": "Gabrijel Boduljak",
      "userId": "02011632684197822840"
     },
     "user_tz": -60
    },
    "id": "TdHJA9G9QZyV"
   },
   "outputs": [],
   "source": [
    "from torch.utils.data import TensorDataset\n",
    "from torch.utils.data import DataLoader\n",
    "\n",
    "dataset = TensorDataset(torch.from_numpy(X).float())\n",
    "loader = DataLoader(\n",
    "    dataset,\n",
    "    batch_size=batch_size,\n",
    "    shuffle=True,\n",
    "    pin_memory=True,\n",
    ")"
   ]
  },
  {
   "cell_type": "code",
   "execution_count": null,
   "metadata": {
    "executionInfo": {
     "elapsed": 3,
     "status": "ok",
     "timestamp": 1756905172482,
     "user": {
      "displayName": "Gabrijel Boduljak",
      "userId": "02011632684197822840"
     },
     "user_tz": -60
    },
    "id": "-6Hb6hDGUrJV"
   },
   "outputs": [],
   "source": [
    "import torch\n",
    "import torch.nn as nn\n",
    "\n",
    "\n",
    "class ScoreModel(nn.Sequential):\n",
    "    def __init__(self, dim: int, num_blocks: int = 2, hidden_size: int = 64):\n",
    "        # Build the layers\n",
    "        layers = [\n",
    "            nn.Linear(dim + 1, hidden_size),\n",
    "            nn.SiLU()\n",
    "        ]\n",
    "        for _ in range(num_blocks):\n",
    "            layers.extend([\n",
    "                nn.Linear(hidden_size, hidden_size),\n",
    "                nn.SiLU()\n",
    "            ])\n",
    "        layers.append(nn.Linear(hidden_size, dim))\n",
    "        # Initialize the Sequential\n",
    "        super().__init__(*layers)\n",
    "\n",
    "    def forward(self, x: torch.Tensor, t: torch.Tensor) -> torch.Tensor:\n",
    "        # Concatenate input with time and pass through the model\n",
    "        h = torch.cat([x, t.unsqueeze(-1)], dim=-1)\n",
    "        return super().forward(h)"
   ]
  },
  {
   "cell_type": "code",
   "execution_count": null,
   "metadata": {
    "executionInfo": {
     "elapsed": 37,
     "status": "ok",
     "timestamp": 1756905172529,
     "user": {
      "displayName": "Gabrijel Boduljak",
      "userId": "02011632684197822840"
     },
     "user_tz": -60
    },
    "id": "nj6jpGW7Uvtm"
   },
   "outputs": [],
   "source": [
    "def training_step(model: ScoreModel, x: torch.Tensor) -> torch.Tensor:\n",
    "    # x: (b, 2) [points]\n",
    "    b, *_ = x.shape\n",
    "    # Sample time\n",
    "    t = torch.rand((b, ), device=x.device)\n",
    "    # Sample noise\n",
    "    z = torch.randn_like(x)\n",
    "    x_0 = x\n",
    "    # Perturb\n",
    "    a = alpha(t).view((-1, 1))\n",
    "    s = sigma(t).view((-1, 1))\n",
    "    x_t = a * x_0 + s * z\n",
    "    # Score\n",
    "    # For numerical stability, corresponds to weight lambda(t) = sigma(t)**2\n",
    "    scaled_score = - 1 * (x_t - a * x_0)\n",
    "    pred_score = model(x_t, t)\n",
    "    return F.mse_loss(pred_score, scaled_score)"
   ]
  },
  {
   "cell_type": "code",
   "execution_count": null,
   "metadata": {
    "executionInfo": {
     "elapsed": 2,
     "status": "ok",
     "timestamp": 1756905172530,
     "user": {
      "displayName": "Gabrijel Boduljak",
      "userId": "02011632684197822840"
     },
     "user_tz": -60
    },
    "id": "Yu542WBXX_S3"
   },
   "outputs": [],
   "source": [
    "from typing import List, Tuple\n",
    "import torch\n",
    "\n",
    "\n",
    "@torch.inference_mode()\n",
    "def sample_vp_sde_euler_maruyama(\n",
    "    model: ScoreModel,\n",
    "    num_samples: int,\n",
    "    sample_shape: List[int] = [2],\n",
    "    T=1.0,\n",
    "    num_steps=1000,\n",
    "    eps=1e-5,\n",
    "    device='cpu',\n",
    ") -> Tuple[torch.Tensor, torch.Tensor]:\n",
    "    # Create time steps from T down to eps, for numerical stability\n",
    "    t_steps = torch.linspace(T, eps, num_steps + 1, device=device)\n",
    "    # Start with a random noise vector for all samples\n",
    "    x = torch.randn([num_samples]+sample_shape, device=device)\n",
    "    # List to store the trajectory of each sample\n",
    "    trajectory = [x.clone()]\n",
    "    for i in range(num_steps):\n",
    "        t = t_steps[i]\n",
    "        # Differentials\n",
    "        dt = t_steps[i] - t_steps[i+1]  # positive\n",
    "        dw = torch.randn_like(x)\n",
    "        # Create a time tensor for the batch, now with shape (num_samples,)\n",
    "        ts = torch.full((num_samples,), t, device=device)  # type: ignore\n",
    "        # Get beta and sigma at the current time step\n",
    "        beta_t = beta(t)\n",
    "        sigma_t = sigma(t)\n",
    "        # Calculate the score estimate from the scaled score\n",
    "        score = model(x, ts) / (sigma_t**2)\n",
    "        # Calculate the drift and diffusion terms\n",
    "        drift = (-0.5 * beta_t * x - beta_t * score)\n",
    "        diffusion = torch.sqrt(beta_t)\n",
    "        # Perform the Euler-Maruyama step\n",
    "        x = x - drift * dt + diffusion * torch.sqrt(dt) * dw\n",
    "        # Store the current state\n",
    "        trajectory.append(x.clone())\n",
    "    # Rearrange trajectory\n",
    "    trajectory = (\n",
    "        torch\n",
    "        .stack(trajectory, dim=0)\n",
    "        .permute(1, 0, 2)\n",
    "    )\n",
    "    return (\n",
    "        trajectory[:, -1, :],\n",
    "        trajectory\n",
    "    )"
   ]
  },
  {
   "cell_type": "code",
   "execution_count": null,
   "metadata": {
    "executionInfo": {
     "elapsed": 1,
     "status": "ok",
     "timestamp": 1756905172532,
     "user": {
      "displayName": "Gabrijel Boduljak",
      "userId": "02011632684197822840"
     },
     "user_tz": -60
    },
    "id": "GXPiRMYoenEE"
   },
   "outputs": [],
   "source": [
    "import numpy as np\n",
    "import matplotlib.pyplot as plt\n",
    "from scipy.stats import multivariate_normal\n",
    "\n",
    "\n",
    "def plot_denoising_trajectories(ax, traj: np.ndarray, ground_truth_samples: np.ndarray, num_samples_to_plot: int = 4):\n",
    "    \"\"\"\n",
    "    Plots the denoising trajectories on a specified axis using a colormap.\n",
    "\n",
    "    Args:\n",
    "        ax (matplotlib.axes.Axes): The axes object to plot on.\n",
    "        traj (np.ndarray): A 3D numpy array of shape (num_trajectories, num_steps, 2)\n",
    "                           representing the trajectories.\n",
    "        ground_truth_samples (np.ndarray): A 2D numpy array of shape (num_samples, 2)\n",
    "                                           representing the ground truth data points.\n",
    "        num_samples_to_plot (int, optional): The number of trajectories to plot. Defaults to 4.\n",
    "    \"\"\"\n",
    "    # 1. Ground truth (black background points, p0)\n",
    "    ax.scatter(ground_truth_samples[:, 0], ground_truth_samples[:,\n",
    "               1], c=\"black\", s=3, label=r\"$p_0$ (Ground truth)\")\n",
    "\n",
    "    # Use the 'viridis' colormap to generate colors\n",
    "    cmap = matplotlib.colormaps[\"viridis\"]\n",
    "    colors = [cmap(i / max(1, num_samples_to_plot - 1))\n",
    "              for i in range(num_samples_to_plot)]\n",
    "\n",
    "    # 2. Plot trajectories, noises, and samples\n",
    "    for i in range(num_samples_to_plot):\n",
    "        color = colors[i]\n",
    "\n",
    "        # Trajectory (light gray line)\n",
    "        ax.plot(traj[i, :, 0], traj[i, :, 1],\n",
    "                color=\"gray\", alpha=0.2, linewidth=1)\n",
    "\n",
    "        # Arrow (stronger gray)\n",
    "        x0, y0 = traj[i, 0]\n",
    "        x1, y1 = traj[i, -1]\n",
    "        ax.annotate(\"\",\n",
    "                    xy=(x1, y1), xycoords='data',\n",
    "                    xytext=(x0, y0), textcoords='data',\n",
    "                    arrowprops=dict(arrowstyle=\"->\", color=\"gray\", lw=1.2, alpha=0.6))\n",
    "\n",
    "        # Initial noise (X marker)\n",
    "        ax.scatter(x0, y0, c=[color], s=60, marker=\"x\", linewidths=2,\n",
    "                   label=\"Initial noise\" if i == 0 else \"\")\n",
    "\n",
    "        # Final sample (O marker)\n",
    "        ax.scatter(x1, y1, c=[color], s=60, marker=\"o\",  linewidths=1.2,\n",
    "                   label=\"Final sample\" if i == 0 else \"\")\n",
    "\n",
    "    # 3. Gaussian contours (p1)\n",
    "    xx, yy = np.meshgrid(\n",
    "        np.linspace(-3, 3, 200),\n",
    "        np.linspace(-3, 3, 200)\n",
    "    )\n",
    "    pos = np.dstack((xx, yy))\n",
    "    rv = multivariate_normal([0, 0], [[1, 0], [0, 1]])\n",
    "    z = rv.pdf(pos)\n",
    "    ax.contour(xx, yy, z, colors=\"gray\", linestyles=\"dotted\")\n",
    "\n",
    "    # --- Legend entries for non-automatic elements ---\n",
    "    # p1 (Gaussian)\n",
    "    ax.plot([], [], color=\"gray\", linestyle=\"dotted\",\n",
    "            label=r\"$p_1$ (Standard Gaussian)\")\n",
    "    # Sampling trajectory\n",
    "    ax.plot([], [], color=\"gray\", alpha=0.2,\n",
    "            linewidth=1, label=\"Sampling trajectory\")\n",
    "\n",
    "    ax.axis(\"equal\")\n",
    "    ax.set_title(\"Denoising using Reverse Process\")\n",
    "    ax.legend()"
   ]
  },
  {
   "cell_type": "code",
   "execution_count": null,
   "metadata": {
    "executionInfo": {
     "elapsed": 29,
     "status": "ok",
     "timestamp": 1756905172561,
     "user": {
      "displayName": "Gabrijel Boduljak",
      "userId": "02011632684197822840"
     },
     "user_tz": -60
    },
    "id": "KdDYep7Na76J"
   },
   "outputs": [],
   "source": [
    "import ipywidgets as widgets\n",
    "from IPython.display import display, Image\n",
    "\n",
    "# show gif inline\n",
    "\n",
    "\n",
    "def display_ode_sde_comparison(ode_gif_path, sde_gif_path):\n",
    "    \"\"\"\n",
    "    Displays two GIFs side by side with labels for comparison.\n",
    "\n",
    "    Args:\n",
    "        ode_gif_path (str): The file path to the ODE GIF.\n",
    "        sde_gif_path (str): The file path to the SDE GIF.\n",
    "    \"\"\"\n",
    "    try:\n",
    "        with open(ode_gif_path, \"rb\") as f:\n",
    "            ode_gif = f.read()\n",
    "        with open(sde_gif_path, \"rb\") as f:\n",
    "            sde_gif = f.read()\n",
    "\n",
    "        widget1 = widgets.Image(value=ode_gif, format='gif', width=500)\n",
    "        widget2 = widgets.Image(value=sde_gif, format='gif', width=500)\n",
    "\n",
    "        label1 = widgets.Label(\"ODE\")\n",
    "        label2 = widgets.Label(\"SDE\")\n",
    "\n",
    "        vbox1 = widgets.VBox(\n",
    "            [widget1, label1], layout=widgets.Layout(align_items='center'))\n",
    "        vbox2 = widgets.VBox(\n",
    "            [widget2, label2], layout=widgets.Layout(align_items='center'))\n",
    "        hbox = widgets.HBox([vbox1, vbox2])\n",
    "\n",
    "        display(hbox)\n",
    "    except FileNotFoundError as e:\n",
    "        print(\n",
    "            f\"Error: One or more files not found. Please check the paths. {e}\")"
   ]
  },
  {
   "cell_type": "markdown",
   "metadata": {
    "id": "DL1-4r8IQZyW"
   },
   "source": [
    "## Part III: Optional\n",
    "\n",
    "---\n"
   ]
  },
  {
   "cell_type": "markdown",
   "metadata": {
    "id": "8VjNsv8dQZyW"
   },
   "source": [
    "### Dataset\n"
   ]
  },
  {
   "cell_type": "code",
   "execution_count": null,
   "metadata": {
    "colab": {
     "base_uri": "https://localhost:8080/",
     "height": 472
    },
    "executionInfo": {
     "elapsed": 501,
     "status": "ok",
     "timestamp": 1756905173064,
     "user": {
      "displayName": "Gabrijel Boduljak",
      "userId": "02011632684197822840"
     },
     "user_tz": -60
    },
    "id": "0aBdxjH7QZyW",
    "outputId": "e5134f40-ea94-4e99-cd51-3146426c2bd5"
   },
   "outputs": [],
   "source": [
    "plot_dataset()"
   ]
  },
  {
   "cell_type": "markdown",
   "metadata": {
    "id": "ZOZYUfYmVJKT"
   },
   "source": [
    "### Re-train the model\n"
   ]
  },
  {
   "cell_type": "code",
   "execution_count": null,
   "metadata": {
    "colab": {
     "base_uri": "https://localhost:8080/"
    },
    "executionInfo": {
     "elapsed": 188,
     "status": "ok",
     "timestamp": 1756905173251,
     "user": {
      "displayName": "Gabrijel Boduljak",
      "userId": "02011632684197822840"
     },
     "user_tz": -60
    },
    "id": "CheSjWSmQZyX",
    "outputId": "da27ae86-335c-4c74-fa0f-1361b24f3b09"
   },
   "outputs": [],
   "source": [
    "model = ScoreModel(dim=2, hidden_size=256).to(device)\n",
    "summary(model)"
   ]
  },
  {
   "cell_type": "code",
   "execution_count": null,
   "metadata": {
    "executionInfo": {
     "elapsed": 1903,
     "status": "ok",
     "timestamp": 1756905175162,
     "user": {
      "displayName": "Gabrijel Boduljak",
      "userId": "02011632684197822840"
     },
     "user_tz": -60
    },
    "id": "KkM1vsTxQZyX"
   },
   "outputs": [],
   "source": [
    "from torch.optim import AdamW\n",
    "\n",
    "optimizer = AdamW(model.parameters(), lr=lr)"
   ]
  },
  {
   "cell_type": "code",
   "execution_count": null,
   "metadata": {
    "colab": {
     "base_uri": "https://localhost:8080/"
    },
    "executionInfo": {
     "elapsed": 299772,
     "status": "ok",
     "timestamp": 1756905474936,
     "user": {
      "displayName": "Gabrijel Boduljak",
      "userId": "02011632684197822840"
     },
     "user_tz": -60
    },
    "id": "3mAriSPjQZyX",
    "outputId": "1f0fae06-b851-4169-9a79-7b3a38defd05"
   },
   "outputs": [],
   "source": [
    "from tqdm import tqdm\n",
    "\n",
    "log_every_steps = 128\n",
    "total_epochs = 0\n",
    "\n",
    "# Training loop with tqdm\n",
    "for epoch in range(num_epochs):\n",
    "    step = 0\n",
    "    # Wrap the DataLoader with tqdm for a progress bar\n",
    "    progress_loader = tqdm(\n",
    "        loader,\n",
    "        desc=f'epoch [{epoch+1}]',\n",
    "        leave=False\n",
    "    )\n",
    "    for x, in progress_loader:\n",
    "        # Move inputs to the device\n",
    "        x = x.to(device)\n",
    "        # Compute the loss\n",
    "        loss = training_step(model, x)\n",
    "        loss.backward()\n",
    "        # Clip gradient norm\n",
    "        torch.nn.utils.clip_grad_norm_(\n",
    "            model.parameters(),\n",
    "            max_norm=1.0\n",
    "        )\n",
    "        optimizer.step()\n",
    "        # Backprop\n",
    "        optimizer.zero_grad()\n",
    "        if step % log_every_steps == 0:\n",
    "            progress_loader.set_postfix(loss=loss.item())\n",
    "        step += 1"
   ]
  },
  {
   "cell_type": "markdown",
   "metadata": {
    "id": "pTZFoaU5QmQR"
   },
   "source": [
    "### Deterministic Sampling with Probability Flow ODE\n"
   ]
  },
  {
   "cell_type": "markdown",
   "metadata": {
    "id": "U8fdayvEV3AW"
   },
   "source": [
    "Perhaps surprisingly, there exists an ODE that samples from the same distribution as the VP-SDE,\n",
    "\n",
    "$$dx = \\left[-\\frac{1}{2}\\beta(t)x - \\frac{1}{2}\\beta(t)s_\\theta(x,t)\\right]dt$$\n",
    "\n",
    "This ODE, also known as Probability Flow ODE, defines a continuous-time process where the state $x$ evolves backward from noise to data without any stochastic (random) component.\n",
    "Unlike the SDE, this path is deterministic, meaning that starting from the same initial noisy state will always lead to the same final data sample.\n",
    "\n",
    "We evolve the ODE using **Euler method**,\n",
    "\n",
    "$$x_{t-\\Delta t} = x_t - \\left[-\\frac{1}{2}\\beta(t)x - \\frac{1}{2}\\beta(t)s_\\theta(x,t)\\right]\\Delta t$$\n",
    "\n",
    "where:\n",
    "\n",
    "- $t$ is the current time step.\n",
    "- $\\Delta t = t_i - t_{i+1}$ is the positive step size.\n",
    "- $x_{t-\\Delta t}$ is the state at the next (earlier) time step.\n",
    "- $s_\\theta(x_t,t)$ is the estimated score function\n"
   ]
  },
  {
   "cell_type": "markdown",
   "metadata": {
    "id": "UERPsfNtWzUy"
   },
   "source": [
    "#### Task: Sampling using Probability Flow ODE\n",
    "\n",
    "Your goal is to implement a sampler that evolves the **Probability Flow ODE** using the **Euler method**.\n",
    "\n",
    "**Inputs**:\n",
    "\n",
    "- **model** – the trained score model. Given inputs `(x, t_batch)`, it outputs `pred_scaled_score`.\n",
    "- **num_samples** – number of samples to generate.\n",
    "- **T** – starting time (default 1.0).\n",
    "- **num_steps** – number of Euler integration steps (default 1000).\n",
    "- **eps** – final time, close to zero (default 1e-5).\n",
    "- **device** – computation device, e.g. `\"cpu\"` or `\"cuda\"`.\n",
    "\n",
    "**Outputs**:\n",
    "\n",
    "The method `sample_pf_ode_euler` should return:\n",
    "\n",
    "- **final_samples** – tensor of shape `(num_samples, 2)`.\n",
    "  These are the samples at the final time step after evolving the ODE from noise.\n",
    "\n",
    "- **trajectory** – tensor of shape `(num_samples, num_steps+1, 2)`.\n",
    "  This stores the entire trajectory of each sample, starting from Gaussian noise at time $T$ and ending at the data distribution at time $\\epsilon$.\n",
    "\n",
    "**Hint:**\n",
    "\n",
    "- Use `torch.full` to create a time tensor for the batch and `torch.randn_like` for the Brownian noise.\n",
    "- Remember to **divide the model output by $\\sigma^2(t)$** to obtain the true score.\n"
   ]
  },
  {
   "cell_type": "code",
   "execution_count": null,
   "metadata": {
    "executionInfo": {
     "elapsed": 9,
     "status": "ok",
     "timestamp": 1756905474948,
     "user": {
      "displayName": "Gabrijel Boduljak",
      "userId": "02011632684197822840"
     },
     "user_tz": -60
    },
    "id": "KUhJSLfBVU_Q"
   },
   "outputs": [],
   "source": [
    "@torch.inference_mode()\n",
    "def sample_pf_ode_euler(\n",
    "    model: ScoreModel,\n",
    "    num_samples: int,\n",
    "    T=1.0,\n",
    "    num_steps=1000,\n",
    "    eps=1e-5,\n",
    "    device='cpu'\n",
    ") -> Tuple[torch.Tensor, torch.Tensor]:\n",
    "    # Create time steps from T down to eps\n",
    "    t_steps = torch.linspace(T, eps, num_steps + 1, device=device)\n",
    "    # Start with a random noise vector for all samples\n",
    "    x = torch.randn(num_samples, 2, device=device)\n",
    "    # List to store the trajectory of each sample\n",
    "    trajectory = [x.clone()]\n",
    "    for i in range(num_steps):\n",
    "        t = t_steps[i]\n",
    "        \"YOUR CODE GOES HERE\"\n",
    "        raise NotImplementedError()\n",
    "        # Store the current state\n",
    "        trajectory.append(x.clone())\n",
    "\n",
    "    trajectory = (\n",
    "        torch\n",
    "        .stack(trajectory, dim=0)\n",
    "        .permute(1, 0, 2)\n",
    "    )\n",
    "\n",
    "    return (\n",
    "        trajectory[:, -1, ...],\n",
    "        trajectory\n",
    "    )"
   ]
  },
  {
   "cell_type": "markdown",
   "metadata": {
    "id": "bO_d_iUnZbgF"
   },
   "source": [
    "**Stochastic Sampling**\n"
   ]
  },
  {
   "cell_type": "code",
   "execution_count": null,
   "metadata": {
    "colab": {
     "base_uri": "https://localhost:8080/"
    },
    "executionInfo": {
     "elapsed": 806,
     "status": "ok",
     "timestamp": 1756905475756,
     "user": {
      "displayName": "Gabrijel Boduljak",
      "userId": "02011632684197822840"
     },
     "user_tz": -60
    },
    "id": "YOwImdIyYS13",
    "outputId": "d56d1729-1055-4d27-deed-f7a08ff16ea9"
   },
   "outputs": [],
   "source": [
    "x_sde, traj_sde = sample_vp_sde_euler_maruyama(\n",
    "    model,\n",
    "    num_samples=1000,\n",
    "    num_steps=1000,\n",
    "    device=device\n",
    ")\n",
    "x_sde = x_sde.detach().cpu().numpy()\n",
    "traj_sde = traj_sde.detach().cpu().numpy()\n",
    "\n",
    "x_sde.shape, traj_sde.shape"
   ]
  },
  {
   "cell_type": "code",
   "execution_count": null,
   "metadata": {
    "colab": {
     "base_uri": "https://localhost:8080/",
     "height": 545
    },
    "executionInfo": {
     "elapsed": 23081,
     "status": "ok",
     "timestamp": 1756905498839,
     "user": {
      "displayName": "Gabrijel Boduljak",
      "userId": "02011632684197822840"
     },
     "user_tz": -60
    },
    "id": "cQfsOxCfgFGm",
    "outputId": "48285e2e-7a08-4c89-e52a-bc42344952cf"
   },
   "outputs": [],
   "source": [
    "animate_trajectories(traj_sde, gif_path=\"sde.gif\")"
   ]
  },
  {
   "cell_type": "markdown",
   "metadata": {
    "id": "yYdgit2EZgV9"
   },
   "source": [
    "**Deterministic Sampling**\n"
   ]
  },
  {
   "cell_type": "code",
   "execution_count": null,
   "metadata": {
    "colab": {
     "base_uri": "https://localhost:8080/"
    },
    "executionInfo": {
     "elapsed": 727,
     "status": "ok",
     "timestamp": 1756905499563,
     "user": {
      "displayName": "Gabrijel Boduljak",
      "userId": "02011632684197822840"
     },
     "user_tz": -60
    },
    "id": "d8aatsc4XZ_I",
    "outputId": "8a4df251-2147-44f6-b35e-07d0fd1a0706"
   },
   "outputs": [],
   "source": [
    "x_ode, traj_ode = sample_pf_ode_euler(\n",
    "    model,\n",
    "    num_samples=1000,\n",
    "    num_steps=1000,\n",
    "    device=device\n",
    ")\n",
    "x_ode = x_ode.detach().cpu().numpy()\n",
    "traj_ode = traj_ode.detach().cpu().numpy()\n",
    "\n",
    "x_ode.shape, traj_ode.shape"
   ]
  },
  {
   "cell_type": "code",
   "execution_count": null,
   "metadata": {
    "colab": {
     "base_uri": "https://localhost:8080/",
     "height": 545
    },
    "executionInfo": {
     "elapsed": 22144,
     "status": "ok",
     "timestamp": 1756905521708,
     "user": {
      "displayName": "Gabrijel Boduljak",
      "userId": "02011632684197822840"
     },
     "user_tz": -60
    },
    "id": "U4wjWEtgXqyW",
    "outputId": "c27f5ca3-c305-43e6-a65d-90cc2fcc716e"
   },
   "outputs": [],
   "source": [
    "animate_trajectories(traj_ode, gif_path=\"ode.gif\")"
   ]
  },
  {
   "cell_type": "markdown",
   "metadata": {
    "id": "039DKAUNeTSH"
   },
   "source": [
    "**Sampling Comparison**\n"
   ]
  },
  {
   "cell_type": "code",
   "execution_count": null,
   "metadata": {
    "colab": {
     "base_uri": "https://localhost:8080/",
     "height": 707
    },
    "executionInfo": {
     "elapsed": 3900,
     "status": "ok",
     "timestamp": 1756905525605,
     "user": {
      "displayName": "Gabrijel Boduljak",
      "userId": "02011632684197822840"
     },
     "user_tz": -60
    },
    "id": "FnOPBhAnYp-r",
    "outputId": "504cf2b8-1b9e-4c54-e476-5edb63d3ed28"
   },
   "outputs": [],
   "source": [
    "fig, (ax_ode, ax_sde) = plt.subplots(1, 2, figsize=(14, 7))\n",
    "\n",
    "plot_denoising_trajectories(ax_ode, traj_ode, X, num_samples_to_plot=32)\n",
    "ax_ode.set_title(\"ODE\")\n",
    "\n",
    "plot_denoising_trajectories(ax_sde, traj_sde, X, num_samples_to_plot=32)\n",
    "ax_sde.set_title(\"SDE\")\n",
    "\n",
    "plt.tight_layout()\n",
    "plt.show()"
   ]
  },
  {
   "cell_type": "code",
   "execution_count": null,
   "metadata": {
    "colab": {
     "base_uri": "https://localhost:8080/",
     "height": 553,
     "referenced_widgets": [
      "15ad3339b1394df8975532132075e9b3",
      "751b87899b0d4ecb889dd229e8ad59e3",
      "82112586cfb844219b774ed204832e06",
      "27e0f156188e484f84bbacdc2db65a60",
      "9cf3d913386e429fadffe1de5ebd838f",
      "642ea7ad7f47425f98921d0990537659",
      "1f6c564ecc6d4eff9a750f5530a5a6fa",
      "35568a1cd82b4674b4eacd549e214406",
      "7b2403b9059f4f5799368358693315ad",
      "fbd8fe661b054922a21ff8450b2aeab9",
      "7d7e66bc6fad47588a72efa197c39f56",
      "59b99f153d344c68b3833dfe5b8efe0d",
      "b443114261ce49cb8b2817c5da80d189",
      "59eb3d8695d9438889016a8a5ed401b3",
      "2a7231cec5c94959aac3e8428bfae854",
      "3c10d1b651dc430ea22b6ad6edf3024a"
     ]
    },
    "executionInfo": {
     "elapsed": 1094,
     "status": "ok",
     "timestamp": 1756905526700,
     "user": {
      "displayName": "Gabrijel Boduljak",
      "userId": "02011632684197822840"
     },
     "user_tz": -60
    },
    "id": "j4apcsYqaNRQ",
    "outputId": "efb61092-630f-4f0b-f12c-c49cd8a841d7"
   },
   "outputs": [],
   "source": [
    "display_ode_sde_comparison(\"ode.gif\", \"sde.gif\")"
   ]
  },
  {
   "cell_type": "markdown",
   "metadata": {
    "id": "WRE4Oni_g89a"
   },
   "source": [
    "## Flow Matching as a Diffusion Model\n",
    "\n",
    "Recall from the Theory notebook the diffusion model framework with forward SDE below gives the flow interpolation as its perturbation kernel i.e. $\\alpha_t = 1-t, \\sigma_t = t$\n",
    "\n",
    "$$\n",
    "\\mathrm{d}\\mathbf{x}_t = -\\frac{1}{1-t}x_t\\,\\mathrm{d}t + \\sqrt{2\\frac{t}{(1-t)}}\\,\\mathrm{d}\\mathbf{w}_t,\n",
    "$$\n",
    "\n",
    "Indeed the probability flow ODE of reverse generative process gives the same velocity field as the learnt flow matching vector field!\n"
   ]
  },
  {
   "cell_type": "markdown",
   "metadata": {
    "id": "AFYohLpOD_uN"
   },
   "source": [
    "## Learning the Probability Flow ODE directly with Flow Matching\n"
   ]
  },
  {
   "cell_type": "code",
   "execution_count": null,
   "metadata": {
    "executionInfo": {
     "elapsed": 1,
     "status": "ok",
     "timestamp": 1756905526703,
     "user": {
      "displayName": "Gabrijel Boduljak",
      "userId": "02011632684197822840"
     },
     "user_tz": -60
    },
    "id": "tUnPITFgXhdC"
   },
   "outputs": [],
   "source": [
    "FlowModel = ScoreModel"
   ]
  },
  {
   "cell_type": "code",
   "execution_count": null,
   "metadata": {
    "colab": {
     "base_uri": "https://localhost:8080/"
    },
    "executionInfo": {
     "elapsed": 12,
     "status": "ok",
     "timestamp": 1756905526716,
     "user": {
      "displayName": "Gabrijel Boduljak",
      "userId": "02011632684197822840"
     },
     "user_tz": -60
    },
    "id": "47Yrgbl7FU3M",
    "outputId": "11012453-27cf-4c69-d459-c1279b2e7eab"
   },
   "outputs": [],
   "source": [
    "model = FlowModel(dim=2, hidden_size=256).to(device)\n",
    "summary(model)"
   ]
  },
  {
   "cell_type": "markdown",
   "metadata": {
    "id": "zh5uXlfMYQCR"
   },
   "source": [
    "#### Task: Flow Matching Schedule\n",
    "\n",
    "In Flow-Matching, we define interpolation schedules using the simple linear formulas\n",
    "\n",
    "$$\n",
    "\\alpha(t) = 1 - t, \\quad \\sigma(t) = t\n",
    "$$\n",
    "\n",
    "where $t \\in [0,1]$.\n",
    "\n",
    "Implement these formulas in PyTorch inside the functions `alpha(t)` and `sigma(t)`. The input `t` will be a PyTorch tensor of any shape with values in $[0,1]$. The output should be a tensor of the same shape.\n"
   ]
  },
  {
   "cell_type": "code",
   "execution_count": null,
   "metadata": {
    "executionInfo": {
     "elapsed": 7,
     "status": "ok",
     "timestamp": 1756905526716,
     "user": {
      "displayName": "Gabrijel Boduljak",
      "userId": "02011632684197822840"
     },
     "user_tz": -60
    },
    "id": "MbglTN24EKSp"
   },
   "outputs": [],
   "source": [
    "def alpha(t):\n",
    "    \"\"\"\n",
    "    Compute alpha(t) for Flow-Matching.\n",
    "\n",
    "    Args:\n",
    "        t: torch.Tensor of shape (...), values in [0,1]\n",
    "\n",
    "    Returns:\n",
    "        alpha: torch.Tensor same shape as t\n",
    "    \"\"\"\n",
    "    \"YOUR CODE GOES HERE\"\n",
    "    raise NotImplementedError()\n",
    "\n",
    "\n",
    "def sigma(t):\n",
    "    \"\"\"\n",
    "    Compute sigma(t) for Flow-Matching.\n",
    "\n",
    "    Args:\n",
    "        t: torch.Tensor of shape (...), values in [0,1]\n",
    "\n",
    "    Returns:\n",
    "        sigma: torch.Tensor same shape as t\n",
    "    \"\"\"\n",
    "    \"YOUR CODE GOES HERE\"\n",
    "    raise NotImplementedError()"
   ]
  },
  {
   "cell_type": "markdown",
   "metadata": {
    "id": "kAiKu86cYNM1"
   },
   "source": [
    "#### Task: Learning Flow using Flow Matching\n",
    "\n",
    "In Flow-Matching, the training objective compares the model’s predicted velocity with the true velocity along the interpolation path.\n",
    "\n",
    "The loss is defined as\n",
    "\n",
    "$$\n",
    "\\mathbf{L} = \\mathbb{E}_{t \\sim U(0,1),\\, x_1 \\sim \\mathbb{N}(0,I)} \\big[ \\|\\, v_\\theta(x_t, t) - (x_1 - x_0)\\,\\|^2 \\big]\n",
    "$$\n",
    "\n",
    "where\n",
    "\n",
    "$$\n",
    "x_t = \\alpha(t) \\, x_0 + \\sigma(t) \\, x_1\n",
    "$$\n",
    "\n",
    "- $x_1$ = random Gaussian noise sample\n",
    "- $x_0$ = data point from the dataset\n",
    "- $v_\\theta(x_t, t)$ = model’s velocity prediction\n",
    "\n",
    "Complete the function `training_step(model, x)` by implementing this objective in PyTorch.\n",
    "\n",
    "1. Sample a batch of times $t \\sim U(0,1)$.\n",
    "2. Sample Gaussian noise $x_1$.\n",
    "3. Compute perturbed samples $x_t$ using the provided `alpha(t)` and `sigma(t)`.\n",
    "4. Compute the true velocity $x_1 - x_0$.\n",
    "5. Pass $(x_t, t)$ to the model to get the predicted velocity.\n",
    "6. Return the MSE loss between predicted and true velocity.\n"
   ]
  },
  {
   "cell_type": "code",
   "execution_count": null,
   "metadata": {
    "executionInfo": {
     "elapsed": 7,
     "status": "ok",
     "timestamp": 1756905526717,
     "user": {
      "displayName": "Gabrijel Boduljak",
      "userId": "02011632684197822840"
     },
     "user_tz": -60
    },
    "id": "o7okoow9EGW3"
   },
   "outputs": [],
   "source": [
    "def training_step(model: ScoreModel, x: torch.Tensor) -> torch.Tensor:\n",
    "    # x: (b, 2) [points]\n",
    "    b, *_ = x.shape\n",
    "    \"YOUR CODE GOES HERE\"\n",
    "    raise NotImplementedError()\n",
    "    return F.mse_loss(\n",
    "        pred_velocity,\n",
    "        velocity\n",
    "    )"
   ]
  },
  {
   "cell_type": "markdown",
   "metadata": {
    "id": "oyK33SrZan2d"
   },
   "source": [
    "Train the model.\n"
   ]
  },
  {
   "cell_type": "code",
   "execution_count": null,
   "metadata": {
    "executionInfo": {
     "elapsed": 6,
     "status": "ok",
     "timestamp": 1756905526717,
     "user": {
      "displayName": "Gabrijel Boduljak",
      "userId": "02011632684197822840"
     },
     "user_tz": -60
    },
    "id": "W72Xdvq7EGfD"
   },
   "outputs": [],
   "source": [
    "from torch.optim import AdamW\n",
    "\n",
    "optimizer = AdamW(model.parameters(), lr=lr)"
   ]
  },
  {
   "cell_type": "code",
   "execution_count": null,
   "metadata": {
    "colab": {
     "base_uri": "https://localhost:8080/"
    },
    "executionInfo": {
     "elapsed": 274816,
     "status": "ok",
     "timestamp": 1756905801527,
     "user": {
      "displayName": "Gabrijel Boduljak",
      "userId": "02011632684197822840"
     },
     "user_tz": -60
    },
    "id": "RwI07i-4EGkZ",
    "outputId": "e8be211e-556b-4c77-e9f3-ff2a37b3d8e2"
   },
   "outputs": [],
   "source": [
    "from tqdm import tqdm\n",
    "\n",
    "log_every_steps = 128\n",
    "total_epochs = 0\n",
    "\n",
    "# Training loop with tqdm\n",
    "for epoch in range(num_epochs):\n",
    "    step = 0\n",
    "    # Wrap the DataLoader with tqdm for a progress bar\n",
    "    progress_loader = tqdm(\n",
    "        loader,\n",
    "        desc=f'epoch [{epoch+1}]',\n",
    "        leave=False\n",
    "    )\n",
    "    for x, in progress_loader:\n",
    "        # Move inputs to the device\n",
    "        x = x.to(device)\n",
    "        # Compute the loss\n",
    "        loss = training_step(model, x)\n",
    "        loss.backward()\n",
    "        # Clip gradient norm\n",
    "        torch.nn.utils.clip_grad_norm_(\n",
    "            model.parameters(),\n",
    "            max_norm=1.0\n",
    "        )\n",
    "        optimizer.step()\n",
    "        # Backprop\n",
    "        optimizer.zero_grad()\n",
    "        if step % log_every_steps == 0:\n",
    "            progress_loader.set_postfix(loss=loss.item())\n",
    "        step += 1"
   ]
  },
  {
   "cell_type": "markdown",
   "metadata": {
    "id": "lefTy72AYVx_"
   },
   "source": [
    "#### Task: Flow ODE Sampling\n",
    "\n",
    "We can generate new samples from a Flow-Matching model by integrating the learned ODE forward in time:\n",
    "\n",
    "$$\n",
    "\\frac{dx}{dt} = -v_\\theta(x_t, t)\n",
    "$$\n",
    "\n",
    "starting from Gaussian noise $x_1 \\sim \\mathbb{N}(0, I)$. Using **Euler’s method**, we discretize time into steps and update\n",
    "\n",
    "$$\n",
    "x_{t- \\Delta t} = x_t - v_\\theta(x_t, t)\\, \\Delta t\n",
    "$$\n",
    "\n",
    "Complete the function `sample_flow_ode_euler(model, num_samples, T, num_steps, device)` to implement this sampler.\n",
    "\n",
    "**Steps to implement:**\n",
    "\n",
    "1. Create evenly spaced time steps from $T \\to 0$.\n",
    "2. Initialize samples $x_1 \\sim \\mathbb{N}(0,I)$.\n",
    "3. For each time step $t$:\n",
    "\n",
    "   - Prepare a batch tensor of times.\n",
    "   - Use the model to predict velocity $v_\\theta(x_t, t)$.\n",
    "   - Update samples with the Euler step.\n",
    "   - Save intermediate samples for the trajectory.\n",
    "\n",
    "4. Stack the trajectory so the final output has shape `(num_samples, num_steps+1, 2)`.\n",
    "5. Return both the final samples and the full trajectory.\n",
    "\n",
    "**Requirements:**\n",
    "\n",
    "- Ensure shapes are correct:\n",
    "\n",
    "  - `final_samples`: `(num_samples, 2)`\n",
    "  - `trajectory`: `(num_samples, num_steps+1, 2)`\n"
   ]
  },
  {
   "cell_type": "code",
   "execution_count": null,
   "metadata": {
    "executionInfo": {
     "elapsed": 2,
     "status": "ok",
     "timestamp": 1756905801531,
     "user": {
      "displayName": "Gabrijel Boduljak",
      "userId": "02011632684197822840"
     },
     "user_tz": -60
    },
    "id": "4NyICNCHGAIv"
   },
   "outputs": [],
   "source": [
    "@torch.inference_mode()\n",
    "def sample_flow_ode_euler(\n",
    "    model: FlowModel,\n",
    "    num_samples: int,\n",
    "    T: float = 1.0,\n",
    "    num_steps: int = 1000,\n",
    "    device: str = 'cpu'\n",
    ") -> Tuple[torch.Tensor, torch.Tensor]:\n",
    "    \"\"\"\n",
    "    Sample from the flow matching model using Euler integration.\n",
    "\n",
    "    Args:\n",
    "        model: trained ScoreModel (predicts velocity).\n",
    "        num_samples: number of samples to generate.\n",
    "        T: terminal time (default 1.0).\n",
    "        num_steps: number of Euler steps.\n",
    "        device: computation device.\n",
    "\n",
    "    Returns:\n",
    "        final_samples: Tensor of shape (num_samples, 2).\n",
    "        trajectory: Tensor of shape (num_samples, num_steps+1, 2).\n",
    "    \"\"\"\n",
    "    # Time discretization from T → 0\n",
    "    t_steps = torch.linspace(T, 0, num_steps + 1, device=device)\n",
    "    dt = T / num_steps\n",
    "\n",
    "    # Start from pure Gaussian noise (p1)\n",
    "    x = torch.randn(num_samples, 2, device=device)\n",
    "    trajectory = [x.clone()]\n",
    "\n",
    "    for i in range(num_steps):\n",
    "        t = t_steps[i]\n",
    "        \"YOUR CODE GOES HERE\"\n",
    "        raise NotImplementedError()\n",
    "        trajectory.append(x.clone())\n",
    "\n",
    "    trajectory = torch.stack(trajectory, dim=0).permute(1, 0, 2)\n",
    "    return trajectory[:, -1, ...], trajectory"
   ]
  },
  {
   "cell_type": "code",
   "execution_count": null,
   "metadata": {
    "colab": {
     "base_uri": "https://localhost:8080/"
    },
    "executionInfo": {
     "elapsed": 339,
     "status": "ok",
     "timestamp": 1756905801873,
     "user": {
      "displayName": "Gabrijel Boduljak",
      "userId": "02011632684197822840"
     },
     "user_tz": -60
    },
    "id": "NUKJsoTxHMKV",
    "outputId": "b3f057b1-43eb-4b7a-d656-d2452091698b"
   },
   "outputs": [],
   "source": [
    "x_ode, traj_ode = sample_flow_ode_euler(\n",
    "    model,\n",
    "    num_samples=1000,\n",
    "    num_steps=1000,\n",
    "    device=device\n",
    ")\n",
    "x_ode = x_ode.detach().cpu().numpy()\n",
    "traj_ode = traj_ode.detach().cpu().numpy()\n",
    "\n",
    "x_ode.shape, traj_ode.shape"
   ]
  },
  {
   "cell_type": "markdown",
   "metadata": {
    "id": "_WeqWBl4bBTd"
   },
   "source": [
    "**Sampling animation**\n"
   ]
  },
  {
   "cell_type": "code",
   "execution_count": null,
   "metadata": {
    "colab": {
     "base_uri": "https://localhost:8080/",
     "height": 545
    },
    "executionInfo": {
     "elapsed": 22722,
     "status": "ok",
     "timestamp": 1756905824597,
     "user": {
      "displayName": "Gabrijel Boduljak",
      "userId": "02011632684197822840"
     },
     "user_tz": -60
    },
    "id": "4752Xeu8YjFw",
    "outputId": "b1e8fd75-dc91-422b-d152-b2d240e0fea8"
   },
   "outputs": [],
   "source": [
    "animate_trajectories(traj_ode, gif_path=\"flow.gif\")"
   ]
  },
  {
   "cell_type": "code",
   "execution_count": null,
   "metadata": {
    "colab": {
     "base_uri": "https://localhost:8080/",
     "height": 617,
     "output_embedded_package_id": "1hWRiqsjygghMf26wnsE0GyG33e-vOEfK"
    },
    "executionInfo": {
     "elapsed": 1311,
     "status": "ok",
     "timestamp": 1756905825906,
     "user": {
      "displayName": "Gabrijel Boduljak",
      "userId": "02011632684197822840"
     },
     "user_tz": -60
    },
    "id": "QMIcWYi4bDst",
    "outputId": "2e75cb9b-d6e1-45e1-e55a-81e5a80e0ca0"
   },
   "outputs": [],
   "source": [
    "Image(filename=\"flow.gif\")"
   ]
  },
  {
   "cell_type": "code",
   "execution_count": null,
   "metadata": {
    "colab": {
     "base_uri": "https://localhost:8080/",
     "height": 640
    },
    "executionInfo": {
     "elapsed": 510,
     "status": "ok",
     "timestamp": 1756905826431,
     "user": {
      "displayName": "Gabrijel Boduljak",
      "userId": "02011632684197822840"
     },
     "user_tz": -60
    },
    "id": "1w2w8ZWxHaPm",
    "outputId": "5d152a0e-8d2e-4e0e-fe0b-6064901c5e37"
   },
   "outputs": [],
   "source": [
    "fig, ax_ode = plt.subplots(1, 1, figsize=(7, 7))\n",
    "\n",
    "plot_denoising_trajectories(ax_ode, traj_ode, X, num_samples_to_plot=32)\n",
    "ax_ode.set_title(\"Flow ODE\")"
   ]
  },
  {
   "cell_type": "markdown",
   "metadata": {
    "id": "pLdiDbIvawyF"
   },
   "source": [
    "We directly learned the flow ODE and sampled deterministically!\n"
   ]
  }
 ],
 "metadata": {
  "accelerator": "GPU",
  "colab": {
   "gpuType": "T4",
   "provenance": [],
   "toc_visible": true
  },
  "kernelspec": {
   "display_name": "Python 3",
   "name": "python3"
  },
  "language_info": {
   "codemirror_mode": {
    "name": "ipython",
    "version": 3
   },
   "file_extension": ".py",
   "mimetype": "text/x-python",
   "name": "python",
   "nbconvert_exporter": "python",
   "pygments_lexer": "ipython3",
   "version": "3.11.0"
  },
  "widgets": {
   "application/vnd.jupyter.widget-state+json": {
    "15ad3339b1394df8975532132075e9b3": {
     "model_module": "@jupyter-widgets/controls",
     "model_module_version": "1.5.0",
     "model_name": "HBoxModel",
     "state": {
      "_dom_classes": [],
      "_model_module": "@jupyter-widgets/controls",
      "_model_module_version": "1.5.0",
      "_model_name": "HBoxModel",
      "_view_count": null,
      "_view_module": "@jupyter-widgets/controls",
      "_view_module_version": "1.5.0",
      "_view_name": "HBoxView",
      "box_style": "",
      "children": [
       "IPY_MODEL_751b87899b0d4ecb889dd229e8ad59e3",
       "IPY_MODEL_82112586cfb844219b774ed204832e06"
      ],
      "layout": "IPY_MODEL_27e0f156188e484f84bbacdc2db65a60"
     }
    },
    "1f6c564ecc6d4eff9a750f5530a5a6fa": {
     "model_module": "@jupyter-widgets/base",
     "model_module_version": "1.2.0",
     "model_name": "LayoutModel",
     "state": {
      "_model_module": "@jupyter-widgets/base",
      "_model_module_version": "1.2.0",
      "_model_name": "LayoutModel",
      "_view_count": null,
      "_view_module": "@jupyter-widgets/base",
      "_view_module_version": "1.2.0",
      "_view_name": "LayoutView",
      "align_content": null,
      "align_items": "center",
      "align_self": null,
      "border": null,
      "bottom": null,
      "display": null,
      "flex": null,
      "flex_flow": null,
      "grid_area": null,
      "grid_auto_columns": null,
      "grid_auto_flow": null,
      "grid_auto_rows": null,
      "grid_column": null,
      "grid_gap": null,
      "grid_row": null,
      "grid_template_areas": null,
      "grid_template_columns": null,
      "grid_template_rows": null,
      "height": null,
      "justify_content": null,
      "justify_items": null,
      "left": null,
      "margin": null,
      "max_height": null,
      "max_width": null,
      "min_height": null,
      "min_width": null,
      "object_fit": null,
      "object_position": null,
      "order": null,
      "overflow": null,
      "overflow_x": null,
      "overflow_y": null,
      "padding": null,
      "right": null,
      "top": null,
      "visibility": null,
      "width": null
     }
    },
    "27e0f156188e484f84bbacdc2db65a60": {
     "model_module": "@jupyter-widgets/base",
     "model_module_version": "1.2.0",
     "model_name": "LayoutModel",
     "state": {
      "_model_module": "@jupyter-widgets/base",
      "_model_module_version": "1.2.0",
      "_model_name": "LayoutModel",
      "_view_count": null,
      "_view_module": "@jupyter-widgets/base",
      "_view_module_version": "1.2.0",
      "_view_name": "LayoutView",
      "align_content": null,
      "align_items": null,
      "align_self": null,
      "border": null,
      "bottom": null,
      "display": null,
      "flex": null,
      "flex_flow": null,
      "grid_area": null,
      "grid_auto_columns": null,
      "grid_auto_flow": null,
      "grid_auto_rows": null,
      "grid_column": null,
      "grid_gap": null,
      "grid_row": null,
      "grid_template_areas": null,
      "grid_template_columns": null,
      "grid_template_rows": null,
      "height": null,
      "justify_content": null,
      "justify_items": null,
      "left": null,
      "margin": null,
      "max_height": null,
      "max_width": null,
      "min_height": null,
      "min_width": null,
      "object_fit": null,
      "object_position": null,
      "order": null,
      "overflow": null,
      "overflow_x": null,
      "overflow_y": null,
      "padding": null,
      "right": null,
      "top": null,
      "visibility": null,
      "width": null
     }
    },
    "2a7231cec5c94959aac3e8428bfae854": {
     "model_module": "@jupyter-widgets/base",
     "model_module_version": "1.2.0",
     "model_name": "LayoutModel",
     "state": {
      "_model_module": "@jupyter-widgets/base",
      "_model_module_version": "1.2.0",
      "_model_name": "LayoutModel",
      "_view_count": null,
      "_view_module": "@jupyter-widgets/base",
      "_view_module_version": "1.2.0",
      "_view_name": "LayoutView",
      "align_content": null,
      "align_items": null,
      "align_self": null,
      "border": null,
      "bottom": null,
      "display": null,
      "flex": null,
      "flex_flow": null,
      "grid_area": null,
      "grid_auto_columns": null,
      "grid_auto_flow": null,
      "grid_auto_rows": null,
      "grid_column": null,
      "grid_gap": null,
      "grid_row": null,
      "grid_template_areas": null,
      "grid_template_columns": null,
      "grid_template_rows": null,
      "height": null,
      "justify_content": null,
      "justify_items": null,
      "left": null,
      "margin": null,
      "max_height": null,
      "max_width": null,
      "min_height": null,
      "min_width": null,
      "object_fit": null,
      "object_position": null,
      "order": null,
      "overflow": null,
      "overflow_x": null,
      "overflow_y": null,
      "padding": null,
      "right": null,
      "top": null,
      "visibility": null,
      "width": null
     }
    },
    "35568a1cd82b4674b4eacd549e214406": {
     "model_module": "@jupyter-widgets/controls",
     "model_module_version": "1.5.0",
     "model_name": "ImageModel",
     "state": {
      "_dom_classes": [],
      "_model_module": "@jupyter-widgets/controls",
      "_model_module_version": "1.5.0",
      "_model_name": "ImageModel",
      "_view_count": null,
      "_view_module": "@jupyter-widgets/controls",
      "_view_module_version": "1.5.0",
      "_view_name": "ImageView",
      "format": "gif",
      "height": "",
      "layout": "IPY_MODEL_59eb3d8695d9438889016a8a5ed401b3",
      "width": "500"
     }
    },
    "3c10d1b651dc430ea22b6ad6edf3024a": {
     "model_module": "@jupyter-widgets/controls",
     "model_module_version": "1.5.0",
     "model_name": "DescriptionStyleModel",
     "state": {
      "_model_module": "@jupyter-widgets/controls",
      "_model_module_version": "1.5.0",
      "_model_name": "DescriptionStyleModel",
      "_view_count": null,
      "_view_module": "@jupyter-widgets/base",
      "_view_module_version": "1.2.0",
      "_view_name": "StyleView",
      "description_width": ""
     }
    },
    "59b99f153d344c68b3833dfe5b8efe0d": {
     "model_module": "@jupyter-widgets/base",
     "model_module_version": "1.2.0",
     "model_name": "LayoutModel",
     "state": {
      "_model_module": "@jupyter-widgets/base",
      "_model_module_version": "1.2.0",
      "_model_name": "LayoutModel",
      "_view_count": null,
      "_view_module": "@jupyter-widgets/base",
      "_view_module_version": "1.2.0",
      "_view_name": "LayoutView",
      "align_content": null,
      "align_items": null,
      "align_self": null,
      "border": null,
      "bottom": null,
      "display": null,
      "flex": null,
      "flex_flow": null,
      "grid_area": null,
      "grid_auto_columns": null,
      "grid_auto_flow": null,
      "grid_auto_rows": null,
      "grid_column": null,
      "grid_gap": null,
      "grid_row": null,
      "grid_template_areas": null,
      "grid_template_columns": null,
      "grid_template_rows": null,
      "height": null,
      "justify_content": null,
      "justify_items": null,
      "left": null,
      "margin": null,
      "max_height": null,
      "max_width": null,
      "min_height": null,
      "min_width": null,
      "object_fit": null,
      "object_position": null,
      "order": null,
      "overflow": null,
      "overflow_x": null,
      "overflow_y": null,
      "padding": null,
      "right": null,
      "top": null,
      "visibility": null,
      "width": null
     }
    },
    "59eb3d8695d9438889016a8a5ed401b3": {
     "model_module": "@jupyter-widgets/base",
     "model_module_version": "1.2.0",
     "model_name": "LayoutModel",
     "state": {
      "_model_module": "@jupyter-widgets/base",
      "_model_module_version": "1.2.0",
      "_model_name": "LayoutModel",
      "_view_count": null,
      "_view_module": "@jupyter-widgets/base",
      "_view_module_version": "1.2.0",
      "_view_name": "LayoutView",
      "align_content": null,
      "align_items": null,
      "align_self": null,
      "border": null,
      "bottom": null,
      "display": null,
      "flex": null,
      "flex_flow": null,
      "grid_area": null,
      "grid_auto_columns": null,
      "grid_auto_flow": null,
      "grid_auto_rows": null,
      "grid_column": null,
      "grid_gap": null,
      "grid_row": null,
      "grid_template_areas": null,
      "grid_template_columns": null,
      "grid_template_rows": null,
      "height": null,
      "justify_content": null,
      "justify_items": null,
      "left": null,
      "margin": null,
      "max_height": null,
      "max_width": null,
      "min_height": null,
      "min_width": null,
      "object_fit": null,
      "object_position": null,
      "order": null,
      "overflow": null,
      "overflow_x": null,
      "overflow_y": null,
      "padding": null,
      "right": null,
      "top": null,
      "visibility": null,
      "width": null
     }
    },
    "642ea7ad7f47425f98921d0990537659": {
     "model_module": "@jupyter-widgets/controls",
     "model_module_version": "1.5.0",
     "model_name": "LabelModel",
     "state": {
      "_dom_classes": [],
      "_model_module": "@jupyter-widgets/controls",
      "_model_module_version": "1.5.0",
      "_model_name": "LabelModel",
      "_view_count": null,
      "_view_module": "@jupyter-widgets/controls",
      "_view_module_version": "1.5.0",
      "_view_name": "LabelView",
      "description": "",
      "description_tooltip": null,
      "layout": "IPY_MODEL_59b99f153d344c68b3833dfe5b8efe0d",
      "placeholder": "​",
      "style": "IPY_MODEL_b443114261ce49cb8b2817c5da80d189",
      "value": "ODE"
     }
    },
    "751b87899b0d4ecb889dd229e8ad59e3": {
     "model_module": "@jupyter-widgets/controls",
     "model_module_version": "1.5.0",
     "model_name": "VBoxModel",
     "state": {
      "_dom_classes": [],
      "_model_module": "@jupyter-widgets/controls",
      "_model_module_version": "1.5.0",
      "_model_name": "VBoxModel",
      "_view_count": null,
      "_view_module": "@jupyter-widgets/controls",
      "_view_module_version": "1.5.0",
      "_view_name": "VBoxView",
      "box_style": "",
      "children": [
       "IPY_MODEL_9cf3d913386e429fadffe1de5ebd838f",
       "IPY_MODEL_642ea7ad7f47425f98921d0990537659"
      ],
      "layout": "IPY_MODEL_1f6c564ecc6d4eff9a750f5530a5a6fa"
     }
    },
    "7b2403b9059f4f5799368358693315ad": {
     "model_module": "@jupyter-widgets/controls",
     "model_module_version": "1.5.0",
     "model_name": "LabelModel",
     "state": {
      "_dom_classes": [],
      "_model_module": "@jupyter-widgets/controls",
      "_model_module_version": "1.5.0",
      "_model_name": "LabelModel",
      "_view_count": null,
      "_view_module": "@jupyter-widgets/controls",
      "_view_module_version": "1.5.0",
      "_view_name": "LabelView",
      "description": "",
      "description_tooltip": null,
      "layout": "IPY_MODEL_2a7231cec5c94959aac3e8428bfae854",
      "placeholder": "​",
      "style": "IPY_MODEL_3c10d1b651dc430ea22b6ad6edf3024a",
      "value": "SDE"
     }
    },
    "7d7e66bc6fad47588a72efa197c39f56": {
     "model_module": "@jupyter-widgets/base",
     "model_module_version": "1.2.0",
     "model_name": "LayoutModel",
     "state": {
      "_model_module": "@jupyter-widgets/base",
      "_model_module_version": "1.2.0",
      "_model_name": "LayoutModel",
      "_view_count": null,
      "_view_module": "@jupyter-widgets/base",
      "_view_module_version": "1.2.0",
      "_view_name": "LayoutView",
      "align_content": null,
      "align_items": null,
      "align_self": null,
      "border": null,
      "bottom": null,
      "display": null,
      "flex": null,
      "flex_flow": null,
      "grid_area": null,
      "grid_auto_columns": null,
      "grid_auto_flow": null,
      "grid_auto_rows": null,
      "grid_column": null,
      "grid_gap": null,
      "grid_row": null,
      "grid_template_areas": null,
      "grid_template_columns": null,
      "grid_template_rows": null,
      "height": null,
      "justify_content": null,
      "justify_items": null,
      "left": null,
      "margin": null,
      "max_height": null,
      "max_width": null,
      "min_height": null,
      "min_width": null,
      "object_fit": null,
      "object_position": null,
      "order": null,
      "overflow": null,
      "overflow_x": null,
      "overflow_y": null,
      "padding": null,
      "right": null,
      "top": null,
      "visibility": null,
      "width": null
     }
    },
    "82112586cfb844219b774ed204832e06": {
     "model_module": "@jupyter-widgets/controls",
     "model_module_version": "1.5.0",
     "model_name": "VBoxModel",
     "state": {
      "_dom_classes": [],
      "_model_module": "@jupyter-widgets/controls",
      "_model_module_version": "1.5.0",
      "_model_name": "VBoxModel",
      "_view_count": null,
      "_view_module": "@jupyter-widgets/controls",
      "_view_module_version": "1.5.0",
      "_view_name": "VBoxView",
      "box_style": "",
      "children": [
       "IPY_MODEL_35568a1cd82b4674b4eacd549e214406",
       "IPY_MODEL_7b2403b9059f4f5799368358693315ad"
      ],
      "layout": "IPY_MODEL_fbd8fe661b054922a21ff8450b2aeab9"
     }
    },
    "9cf3d913386e429fadffe1de5ebd838f": {
     "model_module": "@jupyter-widgets/controls",
     "model_module_version": "1.5.0",
     "model_name": "ImageModel",
     "state": {
      "_dom_classes": [],
      "_model_module": "@jupyter-widgets/controls",
      "_model_module_version": "1.5.0",
      "_model_name": "ImageModel",
      "_view_count": null,
      "_view_module": "@jupyter-widgets/controls",
      "_view_module_version": "1.5.0",
      "_view_name": "ImageView",
      "format": "gif",
      "height": "",
      "layout": "IPY_MODEL_7d7e66bc6fad47588a72efa197c39f56",
      "width": "500"
     }
    },
    "b443114261ce49cb8b2817c5da80d189": {
     "model_module": "@jupyter-widgets/controls",
     "model_module_version": "1.5.0",
     "model_name": "DescriptionStyleModel",
     "state": {
      "_model_module": "@jupyter-widgets/controls",
      "_model_module_version": "1.5.0",
      "_model_name": "DescriptionStyleModel",
      "_view_count": null,
      "_view_module": "@jupyter-widgets/base",
      "_view_module_version": "1.2.0",
      "_view_name": "StyleView",
      "description_width": ""
     }
    },
    "fbd8fe661b054922a21ff8450b2aeab9": {
     "model_module": "@jupyter-widgets/base",
     "model_module_version": "1.2.0",
     "model_name": "LayoutModel",
     "state": {
      "_model_module": "@jupyter-widgets/base",
      "_model_module_version": "1.2.0",
      "_model_name": "LayoutModel",
      "_view_count": null,
      "_view_module": "@jupyter-widgets/base",
      "_view_module_version": "1.2.0",
      "_view_name": "LayoutView",
      "align_content": null,
      "align_items": "center",
      "align_self": null,
      "border": null,
      "bottom": null,
      "display": null,
      "flex": null,
      "flex_flow": null,
      "grid_area": null,
      "grid_auto_columns": null,
      "grid_auto_flow": null,
      "grid_auto_rows": null,
      "grid_column": null,
      "grid_gap": null,
      "grid_row": null,
      "grid_template_areas": null,
      "grid_template_columns": null,
      "grid_template_rows": null,
      "height": null,
      "justify_content": null,
      "justify_items": null,
      "left": null,
      "margin": null,
      "max_height": null,
      "max_width": null,
      "min_height": null,
      "min_width": null,
      "object_fit": null,
      "object_position": null,
      "order": null,
      "overflow": null,
      "overflow_x": null,
      "overflow_y": null,
      "padding": null,
      "right": null,
      "top": null,
      "visibility": null,
      "width": null
     }
    }
   }
  }
 },
 "nbformat": 4,
 "nbformat_minor": 0
}
